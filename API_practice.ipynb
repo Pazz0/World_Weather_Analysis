{
 "cells": [
  {
   "cell_type": "code",
   "execution_count": 9,
   "id": "9809f0ea",
   "metadata": {},
   "outputs": [],
   "source": [
    "# Import the dependencies.\n",
    "import pandas as pd\n",
    "import matplotlib.pyplot as plt\n",
    "import numpy as np\n",
    "#from citipy import citipy"
   ]
  },
  {
   "cell_type": "code",
   "execution_count": 10,
   "id": "ddd6931e",
   "metadata": {},
   "outputs": [],
   "source": [
    "# Create a practice set of random latitude and longitude combinations.\n",
    "lats = [25.12903645, 25.92017388, 26.62509167, -59.98969384, 37.30571269]\n",
    "lngs = [-67.59741259, 11.09532135, 74.84233102, -76.89176677, -61.13376282]\n",
    "lat_lngs = zip(lats, lngs)"
   ]
  },
  {
   "cell_type": "code",
   "execution_count": 11,
   "id": "5f1398ee",
   "metadata": {},
   "outputs": [],
   "source": [
    "# Use the citipy module to determine city based on latitude and longitude.\n",
    "from citipy import citipy"
   ]
  },
  {
   "cell_type": "code",
   "execution_count": 13,
   "id": "4427f454",
   "metadata": {},
   "outputs": [],
   "source": [
    "# Add the latitudes and longitudes to a list.\n",
    "coordinates = list(lat_lngs)"
   ]
  },
  {
   "cell_type": "code",
   "execution_count": 17,
   "id": "b2fb3eac",
   "metadata": {},
   "outputs": [
    {
     "data": {
      "text/plain": [
       "5"
      ]
     },
     "execution_count": 17,
     "metadata": {},
     "output_type": "execute_result"
    }
   ],
   "source": [
    "# Create a list for holding the cities.\n",
    "cities = []\n",
    "# Identify the nearest city for each latitude and longitude combination.\n",
    "for coordinate in coordinates:\n",
    "    city = citipy.nearest_city(coordinate[0], coordinate[1]).city_name\n",
    "\n",
    "    # If the city is unique, then we will add it to the cities list.\n",
    "    if city not in cities:\n",
    "        cities.append(city)\n",
    "# Print the city count to confirm sufficient count.\n",
    "len(cities)"
   ]
  },
  {
   "cell_type": "code",
   "execution_count": 18,
   "id": "109d8806",
   "metadata": {},
   "outputs": [
    {
     "ename": "AttributeError",
     "evalue": "'City' object has no attribute 'cityname'",
     "output_type": "error",
     "traceback": [
      "\u001b[0;31m---------------------------------------------------------------------------\u001b[0m",
      "\u001b[0;31mAttributeError\u001b[0m                            Traceback (most recent call last)",
      "Cell \u001b[0;32mIn[18], line 3\u001b[0m\n\u001b[1;32m      1\u001b[0m \u001b[38;5;66;03m# Use the print() function to display the latitude and longitude combinations.\u001b[39;00m\n\u001b[1;32m      2\u001b[0m \u001b[38;5;28;01mfor\u001b[39;00m coordinate \u001b[38;5;129;01min\u001b[39;00m coordinates:\n\u001b[0;32m----> 3\u001b[0m     \u001b[38;5;28mprint\u001b[39m(\u001b[43mcitipy\u001b[49m\u001b[38;5;241;43m.\u001b[39;49m\u001b[43mnearest_city\u001b[49m\u001b[43m(\u001b[49m\u001b[43mcoordinate\u001b[49m\u001b[43m[\u001b[49m\u001b[38;5;241;43m0\u001b[39;49m\u001b[43m]\u001b[49m\u001b[43m,\u001b[49m\u001b[43m \u001b[49m\u001b[43mcoordinate\u001b[49m\u001b[43m[\u001b[49m\u001b[38;5;241;43m1\u001b[39;49m\u001b[43m]\u001b[49m\u001b[43m)\u001b[49m\u001b[38;5;241;43m.\u001b[39;49m\u001b[43mcityname\u001b[49m,\n\u001b[1;32m      4\u001b[0m           citipy\u001b[38;5;241m.\u001b[39mnearest_city(coordinate[\u001b[38;5;241m0\u001b[39m], coordinate[\u001b[38;5;241m1\u001b[39m])\u001b[38;5;241m.\u001b[39mcountry_code)\n",
      "\u001b[0;31mAttributeError\u001b[0m: 'City' object has no attribute 'cityname'"
     ]
    }
   ],
   "source": [
    "# Use the print() function to display the latitude and longitude combinations.\n",
    "for coordinate in coordinates:\n",
    "    print(citipy.nearest_city(coordinate[0], coordinate[1]).cityname,\n",
    "          citipy.nearest_city(coordinate[0], coordinate[1]).country_code)\n"
   ]
  },
  {
   "cell_type": "code",
   "execution_count": null,
   "id": "57f7c7a1",
   "metadata": {},
   "outputs": [],
   "source": []
  }
 ],
 "metadata": {
  "kernelspec": {
   "display_name": "PythonData",
   "language": "python",
   "name": "pythondata"
  },
  "language_info": {
   "codemirror_mode": {
    "name": "ipython",
    "version": 3
   },
   "file_extension": ".py",
   "mimetype": "text/x-python",
   "name": "python",
   "nbconvert_exporter": "python",
   "pygments_lexer": "ipython3",
   "version": "3.8.15"
  }
 },
 "nbformat": 4,
 "nbformat_minor": 5
}
